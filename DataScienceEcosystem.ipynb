{
 "cells": [
  {
   "metadata": {},
   "cell_type": "markdown",
   "source": "<h1>Data Science Tools and Ecosystem</h1>",
   "id": "ccb4a61af33309a"
  },
  {
   "metadata": {},
   "cell_type": "markdown",
   "source": "In this notebook, Data Science Tools and Ecosystem are summarized.",
   "id": "1e7ce21104877318"
  },
  {
   "metadata": {},
   "cell_type": "markdown",
   "source": [
    "Some of the popular languages that Data Scientists use are:\n",
    "\n",
    "1. Python\n",
    "2. R\n",
    "3. SQL\n",
    "4. Java\n",
    "5. Julia"
   ],
   "id": "9dc8350c58978f70"
  },
  {
   "metadata": {},
   "cell_type": "markdown",
   "source": [
    "Some of the commonly used libraries used by Data Scientists include:\n",
    "\n",
    "1. Pandas\n",
    "2. NumPy\n",
    "3. Scikit-Learn\n",
    "4. Matplotlib\n",
    "5. Tensorflow"
   ],
   "id": "e9196c0fc261e149"
  },
  {
   "metadata": {},
   "cell_type": "markdown",
   "source": [
    "| Data Science Tools |\n",
    "| ------------------ |\n",
    "| Jupyter Notebook   |\n",
    "| RStudio            |\n",
    "| Spyder             |\n"
   ],
   "id": "ba08fe96e977c8bf"
  },
  {
   "metadata": {},
   "cell_type": "markdown",
   "source": "<h3>Below are a few examples of evaluating arithmetic expressions in Python</h3>",
   "id": "3fecb77af5512a49"
  },
  {
   "metadata": {
    "ExecuteTime": {
     "end_time": "2024-09-23T14:12:39.061264Z",
     "start_time": "2024-09-23T14:12:39.052703Z"
    }
   },
   "cell_type": "code",
   "source": [
    "# This a simple arithmetic expression to mutiply then add integers\n",
    "\n",
    "(3*4)+5"
   ],
   "id": "1f9781d8fe852187",
   "outputs": [
    {
     "data": {
      "text/plain": [
       "17"
      ]
     },
     "execution_count": 1,
     "metadata": {},
     "output_type": "execute_result"
    }
   ],
   "execution_count": 1
  },
  {
   "metadata": {
    "ExecuteTime": {
     "end_time": "2024-09-23T14:13:37.148095Z",
     "start_time": "2024-09-23T14:13:37.143665Z"
    }
   },
   "cell_type": "code",
   "source": [
    "# This will convert 200 minutes to hours by diving by 60\n",
    "\n",
    "200/60"
   ],
   "id": "629576e4e495d304",
   "outputs": [
    {
     "data": {
      "text/plain": [
       "3.3333333333333335"
      ]
     },
     "execution_count": 2,
     "metadata": {},
     "output_type": "execute_result"
    }
   ],
   "execution_count": 2
  },
  {
   "metadata": {},
   "cell_type": "raw",
   "source": [
    "<b>Objectives:</b> List popular languages for Data Science\n",
    "- Python\n",
    "- R\n",
    "- SQL"
   ],
   "id": "a32a9d1e9be65ae"
  },
  {
   "metadata": {},
   "cell_type": "markdown",
   "source": [
    "<h2>Author</h2>\n",
    "    \n",
    "    Yosep Putra Sudibyo"
   ],
   "id": "a3cccbb747007c2b"
  }
 ],
 "metadata": {
  "kernelspec": {
   "display_name": "Python 3",
   "language": "python",
   "name": "python3"
  },
  "language_info": {
   "codemirror_mode": {
    "name": "ipython",
    "version": 2
   },
   "file_extension": ".py",
   "mimetype": "text/x-python",
   "name": "python",
   "nbconvert_exporter": "python",
   "pygments_lexer": "ipython2",
   "version": "2.7.6"
  }
 },
 "nbformat": 4,
 "nbformat_minor": 5
}
